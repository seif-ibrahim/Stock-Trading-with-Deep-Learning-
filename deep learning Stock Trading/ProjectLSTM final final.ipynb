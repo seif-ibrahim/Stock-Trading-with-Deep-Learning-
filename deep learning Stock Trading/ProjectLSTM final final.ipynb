{
  "nbformat": 4,
  "nbformat_minor": 0,
  "metadata": {
    "colab": {
      "name": "ProjectLSTM.ipynb",
      "provenance": [],
      "collapsed_sections": []
    },
    "kernelspec": {
      "display_name": "Python 3",
      "name": "python3"
    },
    "language_info": {
      "name": "python"
    }
  },
  "cells": [
    {
      "cell_type": "code",
      "metadata": {
        "id": "GqloPVa0fMDr"
      },
      "source": [
        "import numpy as np\n",
        "import pandas as pd\n",
        "import matplotlib.pyplot as plt\n",
        "from sklearn.preprocessing import MinMaxScaler\n",
        "from tensorflow.keras.models import Sequential\n",
        "from keras.wrappers.scikit_learn import KerasRegressor\n",
        "from tensorflow.keras.layers import Dense , Dropout ,LSTM\n",
        "from sklearn.model_selection import train_test_split\n",
        "from sklearn.model_selection import GridSearchCV\n"
      ],
      "execution_count": 2,
      "outputs": []
    },
    {
      "cell_type": "code",
      "metadata": {
        "id": "rC_yIwNcf9vw",
        "colab": {
          "base_uri": "https://localhost:8080/",
          "height": 204
        },
        "outputId": "46adfee3-1a05-425d-d03d-8cda50c4b2c0"
      },
      "source": [
        "# load the four data sets\n",
        "df1 = pd.read_csv('AAPL_2006-01-01_to_2018-01-01.csv')\n",
        "df2 = pd.read_csv('AMZN_2006-01-01_to_2018-01-01.csv')\n",
        "df3 = pd.read_csv('GOOGL_2006-01-01_to_2018-01-01.csv')\n",
        "df4 = pd.read_csv('NKE_2006-01-01_to_2018-01-01.csv')\n",
        "df = pd.concat([df1, df2, df3, df4], ignore_index=True)\n",
        "df.tail()"
      ],
      "execution_count": 3,
      "outputs": [
        {
          "output_type": "execute_result",
          "data": {
            "text/html": [
              "<div>\n",
              "<style scoped>\n",
              "    .dataframe tbody tr th:only-of-type {\n",
              "        vertical-align: middle;\n",
              "    }\n",
              "\n",
              "    .dataframe tbody tr th {\n",
              "        vertical-align: top;\n",
              "    }\n",
              "\n",
              "    .dataframe thead th {\n",
              "        text-align: right;\n",
              "    }\n",
              "</style>\n",
              "<table border=\"1\" class=\"dataframe\">\n",
              "  <thead>\n",
              "    <tr style=\"text-align: right;\">\n",
              "      <th></th>\n",
              "      <th>Date</th>\n",
              "      <th>Open</th>\n",
              "      <th>High</th>\n",
              "      <th>Low</th>\n",
              "      <th>Close</th>\n",
              "      <th>Volume</th>\n",
              "      <th>Name</th>\n",
              "    </tr>\n",
              "  </thead>\n",
              "  <tbody>\n",
              "    <tr>\n",
              "      <th>12072</th>\n",
              "      <td>2017-12-22</td>\n",
              "      <td>61.20</td>\n",
              "      <td>63.54</td>\n",
              "      <td>60.13</td>\n",
              "      <td>63.29</td>\n",
              "      <td>20414195</td>\n",
              "      <td>NKE</td>\n",
              "    </tr>\n",
              "    <tr>\n",
              "      <th>12073</th>\n",
              "      <td>2017-12-26</td>\n",
              "      <td>62.90</td>\n",
              "      <td>63.89</td>\n",
              "      <td>62.81</td>\n",
              "      <td>63.65</td>\n",
              "      <td>4563475</td>\n",
              "      <td>NKE</td>\n",
              "    </tr>\n",
              "    <tr>\n",
              "      <th>12074</th>\n",
              "      <td>2017-12-27</td>\n",
              "      <td>63.56</td>\n",
              "      <td>63.60</td>\n",
              "      <td>62.77</td>\n",
              "      <td>62.95</td>\n",
              "      <td>8959745</td>\n",
              "      <td>NKE</td>\n",
              "    </tr>\n",
              "    <tr>\n",
              "      <th>12075</th>\n",
              "      <td>2017-12-28</td>\n",
              "      <td>63.00</td>\n",
              "      <td>63.32</td>\n",
              "      <td>62.85</td>\n",
              "      <td>62.95</td>\n",
              "      <td>3987151</td>\n",
              "      <td>NKE</td>\n",
              "    </tr>\n",
              "    <tr>\n",
              "      <th>12076</th>\n",
              "      <td>2017-12-29</td>\n",
              "      <td>63.21</td>\n",
              "      <td>63.37</td>\n",
              "      <td>62.55</td>\n",
              "      <td>62.55</td>\n",
              "      <td>5222115</td>\n",
              "      <td>NKE</td>\n",
              "    </tr>\n",
              "  </tbody>\n",
              "</table>\n",
              "</div>"
            ],
            "text/plain": [
              "             Date   Open   High    Low  Close    Volume Name\n",
              "12072  2017-12-22  61.20  63.54  60.13  63.29  20414195  NKE\n",
              "12073  2017-12-26  62.90  63.89  62.81  63.65   4563475  NKE\n",
              "12074  2017-12-27  63.56  63.60  62.77  62.95   8959745  NKE\n",
              "12075  2017-12-28  63.00  63.32  62.85  62.95   3987151  NKE\n",
              "12076  2017-12-29  63.21  63.37  62.55  62.55   5222115  NKE"
            ]
          },
          "metadata": {},
          "execution_count": 3
        }
      ]
    },
    {
      "cell_type": "code",
      "metadata": {
        "id": "uEwJnw7ngCQs",
        "colab": {
          "base_uri": "https://localhost:8080/"
        },
        "outputId": "4a294821-6a40-420b-8170-611e822c5b35"
      },
      "source": [
        "# visualize data to chack if there is missing values in High column\n",
        "df.info()"
      ],
      "execution_count": 4,
      "outputs": [
        {
          "output_type": "stream",
          "text": [
            "<class 'pandas.core.frame.DataFrame'>\n",
            "RangeIndex: 12077 entries, 0 to 12076\n",
            "Data columns (total 7 columns):\n",
            " #   Column  Non-Null Count  Dtype  \n",
            "---  ------  --------------  -----  \n",
            " 0   Date    12077 non-null  object \n",
            " 1   Open    12076 non-null  float64\n",
            " 2   High    12077 non-null  float64\n",
            " 3   Low     12077 non-null  float64\n",
            " 4   Close   12077 non-null  float64\n",
            " 5   Volume  12077 non-null  int64  \n",
            " 6   Name    12077 non-null  object \n",
            "dtypes: float64(4), int64(1), object(2)\n",
            "memory usage: 660.6+ KB\n"
          ],
          "name": "stdout"
        }
      ]
    },
    {
      "cell_type": "code",
      "metadata": {
        "id": "4GUicd0rgFFK",
        "colab": {
          "base_uri": "https://localhost:8080/"
        },
        "outputId": "7cc7e82c-d208-489a-bfac-718c6d1fa61c"
      },
      "source": [
        "# take the data that we interested in \n",
        "df_train = df['High']\n",
        "print(df_train.tail())"
      ],
      "execution_count": 5,
      "outputs": [
        {
          "output_type": "stream",
          "text": [
            "12072    63.54\n",
            "12073    63.89\n",
            "12074    63.60\n",
            "12075    63.32\n",
            "12076    63.37\n",
            "Name: High, dtype: float64\n"
          ],
          "name": "stdout"
        }
      ]
    },
    {
      "cell_type": "code",
      "metadata": {
        "colab": {
          "base_uri": "https://localhost:8080/",
          "height": 319
        },
        "id": "-nhAdkOGSY9J",
        "outputId": "ac4dfd71-1442-4038-f093-3f0fd4e40558"
      },
      "source": [
        "# plot the High data \n",
        "fig = plt.figure(figsize = (5,5))\n",
        "df_train.plot(kind='box',fontsize=8)\n",
        "plt.show()"
      ],
      "execution_count": 107,
      "outputs": [
        {
          "output_type": "display_data",
          "data": {
            "image/png": "[encoded data removed]",
            "text/plain": [
              "<Figure size 360x360 with 1 Axes>"
            ]
          },
          "metadata": {
            "needs_background": "light"
          }
        }
      ]
    },
    {
      "cell_type": "code",
      "metadata": {
        "colab": {
          "base_uri": "https://localhost:8080/",
          "height": 404
        },
        "id": "qTladHcEURe1",
        "outputId": "4af656a4-6d0b-41f7-9a58-9942b81c22b3"
      },
      "source": [
        "fig = plt.figure(figsize = (5,6))\n",
        "df_train.hist(ylabelsize=1)\n",
        "plt.title(\"High price\")\n",
        "plt.xlabel('time')\n",
        "plt.ylabel('count of repeated')\n",
        "plt.show()"
      ],
      "execution_count": 154,
      "outputs": [
        {
          "output_type": "display_data",
          "data": {
            "image/png": "[encoded data removed]",
            "text/plain": [
              "<Figure size 360x432 with 1 Axes>"
            ]
          },
          "metadata": {
            "needs_background": "light"
          }
        }
      ]
    },
    {
      "cell_type": "code",
      "metadata": {
        "id": "ma0eA_gH6UoU",
        "colab": {
          "base_uri": "https://localhost:8080/"
        },
        "outputId": "f4b6bfab-1f10-42c3-d81c-dc5b79d8be6d"
      },
      "source": [
        "# drop the raws that contain nans\n",
        "df_train = df_train.dropna()\n",
        "print(df_train.tail())"
      ],
      "execution_count": 8,
      "outputs": [
        {
          "output_type": "stream",
          "text": [
            "12072    63.54\n",
            "12073    63.89\n",
            "12074    63.60\n",
            "12075    63.32\n",
            "12076    63.37\n",
            "Name: High, dtype: float64\n"
          ],
          "name": "stdout"
        }
      ]
    },
    {
      "cell_type": "code",
      "metadata": {
        "id": "C-Rvgx_0geMz",
        "colab": {
          "base_uri": "https://localhost:8080/"
        },
        "outputId": "084a42ea-8350-4878-e652-b30e74372005"
      },
      "source": [
        "# prepar the  data \n",
        "scaler = MinMaxScaler(feature_range=(0,1))\n",
        "Data_Scaled = scaler.fit_transform(df_train.values.reshape(-1,1))\n",
        "Data_Scaled.shape"
      ],
      "execution_count": 9,
      "outputs": [
        {
          "output_type": "execute_result",
          "data": {
            "text/plain": [
              "(12077, 1)"
            ]
          },
          "metadata": {},
          "execution_count": 9
        }
      ]
    },
    {
      "cell_type": "code",
      "metadata": {
        "id": "UkpwEV6Ug5cE"
      },
      "source": [
        "# split the data to train and test data\n",
        "prediction_Days = 60 # will in the memory\n",
        "X_train = []\n",
        "Y_train = []\n",
        "# every 60 raw in x will match 1 raw in y \n",
        "for i in range(prediction_Days,len(Data_Scaled)): \n",
        "    X_train.append(Data_Scaled[i-prediction_Days:i,0]) \n",
        "    Y_train.append(Data_Scaled[i,0])\n",
        "\n",
        "X_train,Y_train = np.array(X_train),np.array(Y_train)\n",
        "X_train = X_train.reshape(-1,prediction_Days,1)"
      ],
      "execution_count": 10,
      "outputs": []
    },
    {
      "cell_type": "code",
      "metadata": {
        "id": "jAdFYexDuJ_1"
      },
      "source": [
        "# build the model\n",
        "def create_baseline():\n",
        "    model = Sequential()\n",
        "\n",
        "    model.add(LSTM(units=50, return_sequences = True, input_shape =(prediction_Days,1)))\n",
        "    model.add(Dropout(0.2))\n",
        "\n",
        "    model.add(LSTM(units=50, return_sequences = True))\n",
        "    model.add(Dropout(0.2))\n",
        "\n",
        "    model.add(LSTM(units=50))\n",
        "    model.add(Dropout(0.2))\n",
        "\n",
        "    model.add(Dense(units =1))\n",
        "\n",
        "    model.compile(optimizer='adam',loss=\"mean_squared_error\")\n",
        "    return model"
      ],
      "execution_count": 71,
      "outputs": []
    },
    {
      "cell_type": "code",
      "metadata": {
        "id": "Rqnj05cwY323"
      },
      "source": [
        "# convert the model to keras to can apply gridSearch on it \n",
        "estimator = KerasRegressor(build_fn=create_baseline)"
      ],
      "execution_count": 72,
      "outputs": []
    },
    {
      "cell_type": "code",
      "metadata": {
        "id": "dDyUqFjnY56n"
      },
      "source": [
        "# prepare the estimator prameters \n",
        "params={'batch_size':[60,70,80], \n",
        "        'nb_epoch':[3,5,8,10],}"
      ],
      "execution_count": 73,
      "outputs": []
    },
    {
      "cell_type": "code",
      "metadata": {
        "colab": {
          "base_uri": "https://localhost:8080/"
        },
        "id": "A6npdnZsY7lD",
        "outputId": "2a4a8e4e-1a04-4021-c4d3-84d7987f4814"
      },
      "source": [
        "# grid search config.\n",
        "grid_search = GridSearchCV(estimator=estimator, param_grid=params, cv=3)\n",
        "# now fit the dataset to the GridSearchCV object. \n",
        "grid_search  = grid_search .fit(X_train, Y_train)"
      ],
      "execution_count": 74,
      "outputs": [
        {
          "output_type": "stream",
          "text": [
            "134/134 [==============================] - 17s 96ms/step - loss: 0.0059\n",
            "67/67 [==============================] - 3s 27ms/step - loss: 6.8423e-05\n",
            "134/134 [==============================] - 17s 96ms/step - loss: 0.0028\n",
            "67/67 [==============================] - 3s 28ms/step - loss: 0.0014\n",
            "134/134 [==============================] - 17s 97ms/step - loss: 0.0032\n",
            "67/67 [==============================] - 3s 28ms/step - loss: 0.0015\n",
            "134/134 [==============================] - 17s 98ms/step - loss: 0.0062\n",
            "67/67 [==============================] - 3s 29ms/step - loss: 7.1362e-05\n",
            "134/134 [==============================] - 18s 100ms/step - loss: 0.0032\n",
            "67/67 [==============================] - 3s 28ms/step - loss: 0.0016\n",
            "134/134 [==============================] - 17s 98ms/step - loss: 0.0038\n",
            "67/67 [==============================] - 3s 28ms/step - loss: 0.0015\n",
            "134/134 [==============================] - 18s 99ms/step - loss: 0.0056\n",
            "67/67 [==============================] - 3s 28ms/step - loss: 3.7827e-05\n",
            "134/134 [==============================] - 17s 98ms/step - loss: 0.0043\n",
            "67/67 [==============================] - 3s 28ms/step - loss: 0.0013\n",
            "134/134 [==============================] - 17s 99ms/step - loss: 0.0030\n",
            "67/67 [==============================] - 3s 28ms/step - loss: 0.0014\n",
            "134/134 [==============================] - 18s 98ms/step - loss: 0.0055\n",
            "67/67 [==============================] - 3s 27ms/step - loss: 3.8892e-05\n",
            "134/134 [==============================] - 17s 96ms/step - loss: 0.0030\n",
            "67/67 [==============================] - 3s 27ms/step - loss: 0.0033\n",
            "134/134 [==============================] - 18s 97ms/step - loss: 0.0034\n",
            "67/67 [==============================] - 3s 27ms/step - loss: 0.0018\n",
            "115/115 [==============================] - 17s 108ms/step - loss: 0.0070\n",
            "58/58 [==============================] - 3s 32ms/step - loss: 5.4189e-05\n",
            "115/115 [==============================] - 17s 110ms/step - loss: 0.0047\n",
            "58/58 [==============================] - 3s 31ms/step - loss: 0.0016\n",
            "115/115 [==============================] - 18s 111ms/step - loss: 0.0035\n",
            "58/58 [==============================] - 3s 31ms/step - loss: 0.0014\n",
            "115/115 [==============================] - 17s 110ms/step - loss: 0.0072\n",
            "58/58 [==============================] - 3s 31ms/step - loss: 4.3865e-05\n",
            "115/115 [==============================] - 17s 110ms/step - loss: 0.0032\n",
            "58/58 [==============================] - 3s 32ms/step - loss: 0.0014\n",
            "115/115 [==============================] - 17s 111ms/step - loss: 0.0034\n",
            "58/58 [==============================] - 3s 32ms/step - loss: 0.0016\n",
            "115/115 [==============================] - 17s 109ms/step - loss: 0.0059\n",
            "58/58 [==============================] - 3s 31ms/step - loss: 3.6448e-05\n",
            "115/115 [==============================] - 17s 110ms/step - loss: 0.0036\n",
            "58/58 [==============================] - 3s 32ms/step - loss: 0.0019\n",
            "115/115 [==============================] - 17s 110ms/step - loss: 0.0045\n",
            "58/58 [==============================] - 3s 31ms/step - loss: 0.0021\n",
            "115/115 [==============================] - 17s 109ms/step - loss: 0.0060\n",
            "58/58 [==============================] - 3s 31ms/step - loss: 5.5342e-05\n",
            "115/115 [==============================] - 17s 108ms/step - loss: 0.0027\n",
            "58/58 [==============================] - 3s 31ms/step - loss: 0.0012\n",
            "115/115 [==============================] - 16s 108ms/step - loss: 0.0029\n",
            "58/58 [==============================] - 3s 31ms/step - loss: 0.0018\n",
            "101/101 [==============================] - 17s 118ms/step - loss: 0.0074\n",
            "51/51 [==============================] - 3s 34ms/step - loss: 1.0787e-04\n",
            "101/101 [==============================] - 16s 116ms/step - loss: 0.0040\n",
            "51/51 [==============================] - 3s 34ms/step - loss: 0.0016\n",
            "101/101 [==============================] - 16s 115ms/step - loss: 0.0037\n",
            "51/51 [==============================] - 3s 34ms/step - loss: 0.0021\n",
            "101/101 [==============================] - 17s 117ms/step - loss: 0.0093\n",
            "51/51 [==============================] - 3s 34ms/step - loss: 3.7292e-05\n",
            "101/101 [==============================] - 16s 116ms/step - loss: 0.0045\n",
            "51/51 [==============================] - 3s 34ms/step - loss: 0.0014\n",
            "101/101 [==============================] - 17s 117ms/step - loss: 0.0037\n",
            "51/51 [==============================] - 3s 34ms/step - loss: 0.0028\n",
            "101/101 [==============================] - 16s 116ms/step - loss: 0.0061\n",
            "51/51 [==============================] - 3s 34ms/step - loss: 1.2516e-04\n",
            "101/101 [==============================] - 16s 115ms/step - loss: 0.0037\n",
            "51/51 [==============================] - 3s 34ms/step - loss: 0.0012\n",
            "101/101 [==============================] - 17s 116ms/step - loss: 0.0040\n",
            "51/51 [==============================] - 3s 34ms/step - loss: 0.0017\n",
            "101/101 [==============================] - 16s 114ms/step - loss: 0.0069\n",
            "51/51 [==============================] - 3s 33ms/step - loss: 5.1056e-05\n",
            "101/101 [==============================] - 16s 113ms/step - loss: 0.0031\n",
            "51/51 [==============================] - 3s 33ms/step - loss: 0.0030\n",
            "101/101 [==============================] - 16s 113ms/step - loss: 0.0040\n",
            "51/51 [==============================] - 3s 33ms/step - loss: 0.0016\n",
            "201/201 [==============================] - 24s 100ms/step - loss: 0.0031\n"
          ],
          "name": "stdout"
        }
      ]
    },
    {
      "cell_type": "code",
      "metadata": {
        "colab": {
          "base_uri": "https://localhost:8080/"
        },
        "id": "XOHhFE6WY-Ae",
        "outputId": "e604ca33-0cbf-41d6-cf86-453965368a0e"
      },
      "source": [
        "# to Know the best batch size and the number of epoch\n",
        "print(grid_search.best_params_)"
      ],
      "execution_count": 153,
      "outputs": [
        {
          "output_type": "stream",
          "text": [
            "{'batch_size': 60, 'nb_epoch': 8}\n"
          ],
          "name": "stdout"
        }
      ]
    },
    {
      "cell_type": "code",
      "metadata": {
        "colab": {
          "base_uri": "https://localhost:8080/"
        },
        "id": "VA7J1BeTvxpy",
        "outputId": "ef792a69-0bef-4710-9d83-7cdc0dc1d55b"
      },
      "source": [
        "# train the model \n",
        "model = create_baseline()\n",
        "model.fit(X_train, Y_train, epochs = 8, batch_size =60)"
      ],
      "execution_count": 80,
      "outputs": [
        {
          "output_type": "stream",
          "text": [
            "Epoch 1/8\n",
            "201/201 [==============================] - 24s 97ms/step - loss: 0.0030\n",
            "Epoch 2/8\n",
            "201/201 [==============================] - 20s 98ms/step - loss: 0.0014\n",
            "Epoch 3/8\n",
            "201/201 [==============================] - 20s 97ms/step - loss: 0.0013\n",
            "Epoch 4/8\n",
            "201/201 [==============================] - 19s 96ms/step - loss: 0.0010\n",
            "Epoch 5/8\n",
            "201/201 [==============================] - 19s 96ms/step - loss: 0.0011\n",
            "Epoch 6/8\n",
            "201/201 [==============================] - 19s 96ms/step - loss: 9.2514e-04\n",
            "Epoch 7/8\n",
            "201/201 [==============================] - 19s 96ms/step - loss: 8.5925e-04\n",
            "Epoch 8/8\n",
            "201/201 [==============================] - 20s 99ms/step - loss: 8.5432e-04\n"
          ],
          "name": "stdout"
        },
        {
          "output_type": "execute_result",
          "data": {
            "text/plain": [
              "<keras.callbacks.History at 0x7fd743eb6250>"
            ]
          },
          "metadata": {},
          "execution_count": 80
        }
      ]
    },
    {
      "cell_type": "code",
      "metadata": {
        "id": "sqrAI_3V9Cmv"
      },
      "source": [
        "# prepare test data \n",
        "test_data =pd.read_csv('Google_test_data.csv')\n",
        "train_data = df\n",
        "actual_price = test_data['High'].values\n",
        "total_dataset = pd.concat((train_data['High'],test_data['High']))\n",
        "model_input = total_dataset[len(total_dataset) - len(test_data) - prediction_Days :].values\n",
        "model_input = model_input.reshape(-1,1)\n",
        "model_input = scaler.fit_transform(model_input)"
      ],
      "execution_count": 81,
      "outputs": []
    },
    {
      "cell_type": "code",
      "metadata": {
        "id": "ZSxjGHmjAuKu"
      },
      "source": [
        "# split the data to take the test data \n",
        "X_test = []\n",
        "for i in range(prediction_Days,len(model_input)):\n",
        "  X_test.append(model_input[i-prediction_Days:i,0])\n",
        "X_test = np.array(X_test)\n",
        "X_test = X_test.reshape(-1,prediction_Days,1)"
      ],
      "execution_count": 82,
      "outputs": []
    },
    {
      "cell_type": "code",
      "metadata": {
        "colab": {
          "base_uri": "https://localhost:8080/"
        },
        "id": "6AeaO9CCB1JW",
        "outputId": "5e36a7d8-bbe2-404d-dddb-75f51fbdcb72"
      },
      "source": [
        "# predict the test data \n",
        "predicted_price = model.predict(X_test)\n",
        "predicted_price = scaler.inverse_transform(predicted_price)\n",
        "predicted_price.shape"
      ],
      "execution_count": 83,
      "outputs": [
        {
          "output_type": "execute_result",
          "data": {
            "text/plain": [
              "(252, 1)"
            ]
          },
          "metadata": {},
          "execution_count": 83
        }
      ]
    },
    {
      "cell_type": "code",
      "metadata": {
        "colab": {
          "base_uri": "https://localhost:8080/"
        },
        "id": "1hnEiCrFTL3j",
        "outputId": "d44fac3f-e6e4-4131-94fc-be1466f28f90"
      },
      "source": [
        "# get the accuracy of the number 61\n",
        "actual_price.reshape(-1,1)\n",
        "accurecy = predicted_price[60]/actual_price[60]\n",
        "print(accurecy)"
      ],
      "execution_count": 98,
      "outputs": [
        {
          "output_type": "stream",
          "text": [
            "[0.98226345]\n"
          ],
          "name": "stdout"
        }
      ]
    },
    {
      "cell_type": "code",
      "metadata": {
        "colab": {
          "base_uri": "https://localhost:8080/",
          "height": 312
        },
        "id": "u-1lL6lTCNNY",
        "outputId": "e2d1642a-a929-416c-8e25-5987f75288d4"
      },
      "source": [
        "# compare between actual data and the predicted data \n",
        "plt.plot(actual_price, color= \"black\", label =\"Actual high price\")\n",
        "plt.plot(predicted_price, color= \"blue\", label =\"Predicted high price\")\n",
        "plt.title(\"High price prediction\")\n",
        "plt.xlabel('time')\n",
        "plt.ylabel('High price')\n",
        "plt.legend()"
      ],
      "execution_count": 152,
      "outputs": [
        {
          "output_type": "execute_result",
          "data": {
            "text/plain": [
              "<matplotlib.legend.Legend at 0x7fd741f031d0>"
            ]
          },
          "metadata": {},
          "execution_count": 152
        },
        {
          "output_type": "display_data",
          "data": {
            "image/png": "[encoded data removed]",
            "text/plain": [
              "<Figure size 432x288 with 1 Axes>"
            ]
          },
          "metadata": {
            "needs_background": "light"
          }
        }
      ]
    }
  ]
}